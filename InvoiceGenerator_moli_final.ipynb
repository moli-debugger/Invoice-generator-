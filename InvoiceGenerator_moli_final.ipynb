{
  "nbformat": 4,
  "nbformat_minor": 0,
  "metadata": {
    "colab": {
      "name": "InvoiceGenerator_moli_final.ipynb",
      "provenance": []
    },
    "kernelspec": {
      "name": "python3",
      "display_name": "Python 3"
    }
  },
  "cells": [
    {
      "cell_type": "code",
      "metadata": {
        "colab": {
          "base_uri": "https://localhost:8080/"
        },
        "id": "2Isu7trlljNB",
        "outputId": "2a08b108-f425-4019-920e-40793403ea59"
      },
      "source": [
        "!pip install InvoiceGenerator"
      ],
      "execution_count": null,
      "outputs": [
        {
          "output_type": "stream",
          "text": [
            "Collecting InvoiceGenerator\n",
            "\u001b[?25l  Downloading https://files.pythonhosted.org/packages/0f/d6/5bc21a11e649db54304d22c8b7c3c6496d9c5e59da22ef3d39d977790bbc/InvoiceGenerator-1.1.0.tar.gz (1.2MB)\n",
            "\u001b[K     |████████████████████████████████| 1.2MB 9.7MB/s \n",
            "\u001b[?25hCollecting reportlab\n",
            "\u001b[?25l  Downloading https://files.pythonhosted.org/packages/4e/ca/f109a94f816b08e1b2f90711c83bdd5596c4b31b3112fe3fa0051ec3c6e6/reportlab-3.5.56-cp36-cp36m-manylinux2010_x86_64.whl (2.6MB)\n",
            "\u001b[K     |████████████████████████████████| 2.6MB 37.6MB/s \n",
            "\u001b[?25hRequirement already satisfied: pillow in /usr/local/lib/python3.6/dist-packages (from InvoiceGenerator) (7.0.0)\n",
            "Collecting qrplatba>=0.3.3\n",
            "  Downloading https://files.pythonhosted.org/packages/ac/6e/88f65e9c81f07eb5badc7672cb81c9fa7ebf6ea87fb4910e117f11a131d4/qrplatba-0.3.4.tar.gz\n",
            "Requirement already satisfied: babel in /usr/local/lib/python3.6/dist-packages (from InvoiceGenerator) (2.9.0)\n",
            "Collecting qrcode>=3.0.0\n",
            "  Downloading https://files.pythonhosted.org/packages/42/87/4a3a77e59ab7493d64da1f69bf1c2e899a4cf81e51b2baa855e8cc8115be/qrcode-6.1-py2.py3-none-any.whl\n",
            "Requirement already satisfied: pytz>=2015.7 in /usr/local/lib/python3.6/dist-packages (from babel->InvoiceGenerator) (2018.9)\n",
            "Requirement already satisfied: six in /usr/local/lib/python3.6/dist-packages (from qrcode>=3.0.0->qrplatba>=0.3.3->InvoiceGenerator) (1.15.0)\n",
            "Building wheels for collected packages: InvoiceGenerator, qrplatba\n",
            "  Building wheel for InvoiceGenerator (setup.py) ... \u001b[?25l\u001b[?25hdone\n",
            "  Created wheel for InvoiceGenerator: filename=InvoiceGenerator-1.1.0-cp36-none-any.whl size=1136102 sha256=17039e6de301399b520b559c6d495ee7e0f15a2eac59e3c63b87682931403b2d\n",
            "  Stored in directory: /root/.cache/pip/wheels/69/be/2d/58cef6422c513ffa5e6bfeeddbbb46c2d361e38d400eb2f82f\n",
            "  Building wheel for qrplatba (setup.py) ... \u001b[?25l\u001b[?25hdone\n",
            "  Created wheel for qrplatba: filename=qrplatba-0.3.4-cp36-none-any.whl size=5474 sha256=36ed566acd88f2703051b3bb754b3e4e11e35b91a894125a4ec07256d6d0e3ef\n",
            "  Stored in directory: /root/.cache/pip/wheels/5e/d6/d0/8ca6ee7807d2d6f37f59233a373735ac72c168bf8eede0ce8a\n",
            "Successfully built InvoiceGenerator qrplatba\n",
            "Installing collected packages: reportlab, qrcode, qrplatba, InvoiceGenerator\n",
            "Successfully installed InvoiceGenerator-1.1.0 qrcode-6.1 qrplatba-0.3.4 reportlab-3.5.56\n"
          ],
          "name": "stdout"
        }
      ]
    },
    {
      "cell_type": "code",
      "metadata": {
        "colab": {
          "base_uri": "https://localhost:8080/"
        },
        "id": "M5QQjsaMMf33",
        "outputId": "d9c4fa9c-c7da-4fa4-b036-b720bd6955bf"
      },
      "source": [
        "import os\n",
        "import locale\n",
        " \n",
        "from tempfile import NamedTemporaryFile\n",
        " \n",
        "from InvoiceGenerator.api import Invoice, Item, Client, Provider, Creator\n",
        " \n",
        "# choose english as language\n",
        "os.environ[\"INVOICE_LANG\"] = \"en\"\n",
        " \n",
        "client = Client('Client company')\n",
        "provider = Provider('Rubi Cotten Collection', bank_code='2010')\n",
        "creator = Creator('Mohamed Ali')\n",
        " \n",
        " \n",
        "invoice = Invoice(client, provider, creator)\n",
        "invoice.currency = u'\\u20B9'\n",
        " \n",
        "def additem():\n",
        "  invoice.add_item(Item(qty, pr, description=des))\n",
        " \n",
        " \n",
        " \n",
        " \n",
        " \n",
        " \n",
        "while True:\n",
        "  n=int(input('''enter the number to do following action:\n",
        "  1.add bill\n",
        "  2.print bill'''))\n",
        "  if n==1:\n",
        "    des=input(\"enter the item name:\")\n",
        "    qty=int(input(\"how much quantity:\"))\n",
        "    pr=int(input(\"enter the price\"))\n",
        "    additem()\n",
        "  else:\n",
        "    from InvoiceGenerator.pdf import SimpleInvoice\n",
        " \n",
        "    pdf = SimpleInvoice(invoice)\n",
        "    pdf.gen(\"invoice1.pdf\",generate_qr_code=True)\n",
        "    break"
      ],
      "execution_count": null,
      "outputs": [
        {
          "output_type": "stream",
          "text": [
            "enter the number to do following action:\n",
            "  1.add bill\n",
            "  2.print bill1\n",
            "enter the item name:t-sihrt\n",
            "how much quantity:2\n",
            "enter the price250\n",
            "enter the number to do following action:\n",
            "  1.add bill\n",
            "  2.print bill1\n",
            "enter the item name:shirt\n",
            "how much quantity:1\n",
            "enter the price850\n",
            "enter the number to do following action:\n",
            "  1.add bill\n",
            "  2.print bill1\n",
            "enter the item name:pant\n",
            "how much quantity:1\n",
            "enter the price1000\n",
            "enter the number to do following action:\n",
            "  1.add bill\n",
            "  2.print bill2\n"
          ],
          "name": "stdout"
        }
      ]
    }
  ]
}